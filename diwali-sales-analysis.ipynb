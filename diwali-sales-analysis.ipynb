{
 "cells": [
  {
   "cell_type": "code",
   "execution_count": null,
   "id": "348e2f02",
   "metadata": {
    "jupyter": {
     "source_hidden": true
    },
    "papermill": {
     "duration": 0.012521,
     "end_time": "2023-04-27T14:25:43.383036",
     "exception": false,
     "start_time": "2023-04-27T14:25:43.370515",
     "status": "completed"
    },
    "tags": []
   },
   "outputs": [],
   "source": []
  },
  {
   "cell_type": "code",
   "execution_count": 1,
   "id": "9371644a",
   "metadata": {
    "_cell_guid": "b1076dfc-b9ad-4769-8c92-a6c4dae69d19",
    "_uuid": "8f2839f25d086af736a60e9eeb907d3b93b6e0e5",
    "execution": {
     "iopub.execute_input": "2023-04-27T14:25:43.409034Z",
     "iopub.status.busy": "2023-04-27T14:25:43.408305Z",
     "iopub.status.idle": "2023-04-27T14:25:44.699064Z",
     "shell.execute_reply": "2023-04-27T14:25:44.697530Z"
    },
    "papermill": {
     "duration": 1.307562,
     "end_time": "2023-04-27T14:25:44.702266",
     "exception": false,
     "start_time": "2023-04-27T14:25:43.394704",
     "status": "completed"
    },
    "tags": []
   },
   "outputs": [],
   "source": [
    "import numpy as np \n",
    "import pandas as pd\n",
    "import matplotlib.pyplot as plt\n",
    "%matplotlib inline\n",
    "import seaborn as sns"
   ]
  },
  {
   "cell_type": "code",
   "execution_count": 2,
   "id": "a2ebcc3f",
   "metadata": {
    "execution": {
     "iopub.execute_input": "2023-04-27T14:25:44.733743Z",
     "iopub.status.busy": "2023-04-27T14:25:44.733235Z",
     "iopub.status.idle": "2023-04-27T14:25:44.808241Z",
     "shell.execute_reply": "2023-04-27T14:25:44.807173Z"
    },
    "papermill": {
     "duration": 0.096254,
     "end_time": "2023-04-27T14:25:44.811608",
     "exception": false,
     "start_time": "2023-04-27T14:25:44.715354",
     "status": "completed"
    },
    "tags": []
   },
   "outputs": [],
   "source": [
    "df = pd.read_csv('/kaggle/input/diwali-sales-dataset/Diwali Sales Data.csv', encoding= 'unicode_escape')\n"
   ]
  },
  {
   "cell_type": "code",
   "execution_count": 3,
   "id": "8e5e201d",
   "metadata": {
    "execution": {
     "iopub.execute_input": "2023-04-27T14:25:44.848445Z",
     "iopub.status.busy": "2023-04-27T14:25:44.847462Z",
     "iopub.status.idle": "2023-04-27T14:25:44.857499Z",
     "shell.execute_reply": "2023-04-27T14:25:44.856031Z"
    },
    "papermill": {
     "duration": 0.029444,
     "end_time": "2023-04-27T14:25:44.860267",
     "exception": false,
     "start_time": "2023-04-27T14:25:44.830823",
     "status": "completed"
    },
    "tags": []
   },
   "outputs": [
    {
     "data": {
      "text/plain": [
       "(11251, 15)"
      ]
     },
     "execution_count": 3,
     "metadata": {},
     "output_type": "execute_result"
    }
   ],
   "source": [
    "df.shape"
   ]
  },
  {
   "cell_type": "code",
   "execution_count": 4,
   "id": "ada0b28a",
   "metadata": {
    "execution": {
     "iopub.execute_input": "2023-04-27T14:25:44.886562Z",
     "iopub.status.busy": "2023-04-27T14:25:44.885866Z",
     "iopub.status.idle": "2023-04-27T14:25:44.930011Z",
     "shell.execute_reply": "2023-04-27T14:25:44.928645Z"
    },
    "papermill": {
     "duration": 0.060975,
     "end_time": "2023-04-27T14:25:44.933167",
     "exception": false,
     "start_time": "2023-04-27T14:25:44.872192",
     "status": "completed"
    },
    "tags": []
   },
   "outputs": [
    {
     "data": {
      "text/html": [
       "<div>\n",
       "<style scoped>\n",
       "    .dataframe tbody tr th:only-of-type {\n",
       "        vertical-align: middle;\n",
       "    }\n",
       "\n",
       "    .dataframe tbody tr th {\n",
       "        vertical-align: top;\n",
       "    }\n",
       "\n",
       "    .dataframe thead th {\n",
       "        text-align: right;\n",
       "    }\n",
       "</style>\n",
       "<table border=\"1\" class=\"dataframe\">\n",
       "  <thead>\n",
       "    <tr style=\"text-align: right;\">\n",
       "      <th></th>\n",
       "      <th>User_ID</th>\n",
       "      <th>Cust_name</th>\n",
       "      <th>Product_ID</th>\n",
       "      <th>Gender</th>\n",
       "      <th>Age Group</th>\n",
       "      <th>Age</th>\n",
       "      <th>Marital_Status</th>\n",
       "      <th>State</th>\n",
       "      <th>Zone</th>\n",
       "      <th>Occupation</th>\n",
       "      <th>Product_Category</th>\n",
       "      <th>Orders</th>\n",
       "      <th>Amount</th>\n",
       "      <th>Status</th>\n",
       "      <th>unnamed1</th>\n",
       "    </tr>\n",
       "  </thead>\n",
       "  <tbody>\n",
       "    <tr>\n",
       "      <th>0</th>\n",
       "      <td>1002903</td>\n",
       "      <td>Sanskriti</td>\n",
       "      <td>P00125942</td>\n",
       "      <td>F</td>\n",
       "      <td>26-35</td>\n",
       "      <td>28</td>\n",
       "      <td>0</td>\n",
       "      <td>Maharashtra</td>\n",
       "      <td>Western</td>\n",
       "      <td>Healthcare</td>\n",
       "      <td>Auto</td>\n",
       "      <td>1</td>\n",
       "      <td>23952.00</td>\n",
       "      <td>NaN</td>\n",
       "      <td>NaN</td>\n",
       "    </tr>\n",
       "    <tr>\n",
       "      <th>1</th>\n",
       "      <td>1000732</td>\n",
       "      <td>Kartik</td>\n",
       "      <td>P00110942</td>\n",
       "      <td>F</td>\n",
       "      <td>26-35</td>\n",
       "      <td>35</td>\n",
       "      <td>1</td>\n",
       "      <td>Andhra Pradesh</td>\n",
       "      <td>Southern</td>\n",
       "      <td>Govt</td>\n",
       "      <td>Auto</td>\n",
       "      <td>3</td>\n",
       "      <td>23934.00</td>\n",
       "      <td>NaN</td>\n",
       "      <td>NaN</td>\n",
       "    </tr>\n",
       "    <tr>\n",
       "      <th>2</th>\n",
       "      <td>1001990</td>\n",
       "      <td>Bindu</td>\n",
       "      <td>P00118542</td>\n",
       "      <td>F</td>\n",
       "      <td>26-35</td>\n",
       "      <td>35</td>\n",
       "      <td>1</td>\n",
       "      <td>Uttar Pradesh</td>\n",
       "      <td>Central</td>\n",
       "      <td>Automobile</td>\n",
       "      <td>Auto</td>\n",
       "      <td>3</td>\n",
       "      <td>23924.00</td>\n",
       "      <td>NaN</td>\n",
       "      <td>NaN</td>\n",
       "    </tr>\n",
       "    <tr>\n",
       "      <th>3</th>\n",
       "      <td>1001425</td>\n",
       "      <td>Sudevi</td>\n",
       "      <td>P00237842</td>\n",
       "      <td>M</td>\n",
       "      <td>0-17</td>\n",
       "      <td>16</td>\n",
       "      <td>0</td>\n",
       "      <td>Karnataka</td>\n",
       "      <td>Southern</td>\n",
       "      <td>Construction</td>\n",
       "      <td>Auto</td>\n",
       "      <td>2</td>\n",
       "      <td>23912.00</td>\n",
       "      <td>NaN</td>\n",
       "      <td>NaN</td>\n",
       "    </tr>\n",
       "    <tr>\n",
       "      <th>4</th>\n",
       "      <td>1000588</td>\n",
       "      <td>Joni</td>\n",
       "      <td>P00057942</td>\n",
       "      <td>M</td>\n",
       "      <td>26-35</td>\n",
       "      <td>28</td>\n",
       "      <td>1</td>\n",
       "      <td>Gujarat</td>\n",
       "      <td>Western</td>\n",
       "      <td>Food Processing</td>\n",
       "      <td>Auto</td>\n",
       "      <td>2</td>\n",
       "      <td>23877.00</td>\n",
       "      <td>NaN</td>\n",
       "      <td>NaN</td>\n",
       "    </tr>\n",
       "    <tr>\n",
       "      <th>5</th>\n",
       "      <td>1000588</td>\n",
       "      <td>Joni</td>\n",
       "      <td>P00057942</td>\n",
       "      <td>M</td>\n",
       "      <td>26-35</td>\n",
       "      <td>28</td>\n",
       "      <td>1</td>\n",
       "      <td>Himachal Pradesh</td>\n",
       "      <td>Northern</td>\n",
       "      <td>Food Processing</td>\n",
       "      <td>Auto</td>\n",
       "      <td>1</td>\n",
       "      <td>23877.00</td>\n",
       "      <td>NaN</td>\n",
       "      <td>NaN</td>\n",
       "    </tr>\n",
       "    <tr>\n",
       "      <th>6</th>\n",
       "      <td>1001132</td>\n",
       "      <td>Balk</td>\n",
       "      <td>P00018042</td>\n",
       "      <td>F</td>\n",
       "      <td>18-25</td>\n",
       "      <td>25</td>\n",
       "      <td>1</td>\n",
       "      <td>Uttar Pradesh</td>\n",
       "      <td>Central</td>\n",
       "      <td>Lawyer</td>\n",
       "      <td>Auto</td>\n",
       "      <td>4</td>\n",
       "      <td>23841.00</td>\n",
       "      <td>NaN</td>\n",
       "      <td>NaN</td>\n",
       "    </tr>\n",
       "    <tr>\n",
       "      <th>7</th>\n",
       "      <td>1002092</td>\n",
       "      <td>Shivangi</td>\n",
       "      <td>P00273442</td>\n",
       "      <td>F</td>\n",
       "      <td>55+</td>\n",
       "      <td>61</td>\n",
       "      <td>0</td>\n",
       "      <td>Maharashtra</td>\n",
       "      <td>Western</td>\n",
       "      <td>IT Sector</td>\n",
       "      <td>Auto</td>\n",
       "      <td>1</td>\n",
       "      <td>NaN</td>\n",
       "      <td>NaN</td>\n",
       "      <td>NaN</td>\n",
       "    </tr>\n",
       "    <tr>\n",
       "      <th>8</th>\n",
       "      <td>1003224</td>\n",
       "      <td>Kushal</td>\n",
       "      <td>P00205642</td>\n",
       "      <td>M</td>\n",
       "      <td>26-35</td>\n",
       "      <td>35</td>\n",
       "      <td>0</td>\n",
       "      <td>Uttar Pradesh</td>\n",
       "      <td>Central</td>\n",
       "      <td>Govt</td>\n",
       "      <td>Auto</td>\n",
       "      <td>2</td>\n",
       "      <td>23809.00</td>\n",
       "      <td>NaN</td>\n",
       "      <td>NaN</td>\n",
       "    </tr>\n",
       "    <tr>\n",
       "      <th>9</th>\n",
       "      <td>1003650</td>\n",
       "      <td>Ginny</td>\n",
       "      <td>P00031142</td>\n",
       "      <td>F</td>\n",
       "      <td>26-35</td>\n",
       "      <td>26</td>\n",
       "      <td>1</td>\n",
       "      <td>Andhra Pradesh</td>\n",
       "      <td>Southern</td>\n",
       "      <td>Media</td>\n",
       "      <td>Auto</td>\n",
       "      <td>4</td>\n",
       "      <td>23799.99</td>\n",
       "      <td>NaN</td>\n",
       "      <td>NaN</td>\n",
       "    </tr>\n",
       "  </tbody>\n",
       "</table>\n",
       "</div>"
      ],
      "text/plain": [
       "   User_ID  Cust_name Product_ID Gender Age Group  Age  Marital_Status  \\\n",
       "0  1002903  Sanskriti  P00125942      F     26-35   28               0   \n",
       "1  1000732     Kartik  P00110942      F     26-35   35               1   \n",
       "2  1001990      Bindu  P00118542      F     26-35   35               1   \n",
       "3  1001425     Sudevi  P00237842      M      0-17   16               0   \n",
       "4  1000588       Joni  P00057942      M     26-35   28               1   \n",
       "5  1000588       Joni  P00057942      M     26-35   28               1   \n",
       "6  1001132       Balk  P00018042      F     18-25   25               1   \n",
       "7  1002092   Shivangi  P00273442      F       55+   61               0   \n",
       "8  1003224     Kushal  P00205642      M     26-35   35               0   \n",
       "9  1003650      Ginny  P00031142      F     26-35   26               1   \n",
       "\n",
       "              State      Zone       Occupation Product_Category  Orders  \\\n",
       "0       Maharashtra   Western       Healthcare             Auto       1   \n",
       "1    Andhra Pradesh  Southern             Govt             Auto       3   \n",
       "2     Uttar Pradesh   Central       Automobile             Auto       3   \n",
       "3         Karnataka  Southern     Construction             Auto       2   \n",
       "4           Gujarat   Western  Food Processing             Auto       2   \n",
       "5  Himachal Pradesh  Northern  Food Processing             Auto       1   \n",
       "6     Uttar Pradesh   Central           Lawyer             Auto       4   \n",
       "7       Maharashtra   Western        IT Sector             Auto       1   \n",
       "8     Uttar Pradesh   Central             Govt             Auto       2   \n",
       "9    Andhra Pradesh  Southern            Media             Auto       4   \n",
       "\n",
       "     Amount  Status  unnamed1  \n",
       "0  23952.00     NaN       NaN  \n",
       "1  23934.00     NaN       NaN  \n",
       "2  23924.00     NaN       NaN  \n",
       "3  23912.00     NaN       NaN  \n",
       "4  23877.00     NaN       NaN  \n",
       "5  23877.00     NaN       NaN  \n",
       "6  23841.00     NaN       NaN  \n",
       "7       NaN     NaN       NaN  \n",
       "8  23809.00     NaN       NaN  \n",
       "9  23799.99     NaN       NaN  "
      ]
     },
     "execution_count": 4,
     "metadata": {},
     "output_type": "execute_result"
    }
   ],
   "source": [
    "df.head(10)"
   ]
  },
  {
   "cell_type": "code",
   "execution_count": 5,
   "id": "905017a8",
   "metadata": {
    "execution": {
     "iopub.execute_input": "2023-04-27T14:25:44.966916Z",
     "iopub.status.busy": "2023-04-27T14:25:44.965949Z",
     "iopub.status.idle": "2023-04-27T14:25:45.007605Z",
     "shell.execute_reply": "2023-04-27T14:25:45.005623Z"
    },
    "papermill": {
     "duration": 0.059317,
     "end_time": "2023-04-27T14:25:45.010520",
     "exception": false,
     "start_time": "2023-04-27T14:25:44.951203",
     "status": "completed"
    },
    "tags": []
   },
   "outputs": [
    {
     "name": "stdout",
     "output_type": "stream",
     "text": [
      "<class 'pandas.core.frame.DataFrame'>\n",
      "RangeIndex: 11251 entries, 0 to 11250\n",
      "Data columns (total 15 columns):\n",
      " #   Column            Non-Null Count  Dtype  \n",
      "---  ------            --------------  -----  \n",
      " 0   User_ID           11251 non-null  int64  \n",
      " 1   Cust_name         11251 non-null  object \n",
      " 2   Product_ID        11251 non-null  object \n",
      " 3   Gender            11251 non-null  object \n",
      " 4   Age Group         11251 non-null  object \n",
      " 5   Age               11251 non-null  int64  \n",
      " 6   Marital_Status    11251 non-null  int64  \n",
      " 7   State             11251 non-null  object \n",
      " 8   Zone              11251 non-null  object \n",
      " 9   Occupation        11251 non-null  object \n",
      " 10  Product_Category  11251 non-null  object \n",
      " 11  Orders            11251 non-null  int64  \n",
      " 12  Amount            11239 non-null  float64\n",
      " 13  Status            0 non-null      float64\n",
      " 14  unnamed1          0 non-null      float64\n",
      "dtypes: float64(3), int64(4), object(8)\n",
      "memory usage: 1.3+ MB\n"
     ]
    }
   ],
   "source": [
    "df.info()"
   ]
  },
  {
   "cell_type": "code",
   "execution_count": 6,
   "id": "0cfa7041",
   "metadata": {
    "execution": {
     "iopub.execute_input": "2023-04-27T14:25:45.038044Z",
     "iopub.status.busy": "2023-04-27T14:25:45.037502Z",
     "iopub.status.idle": "2023-04-27T14:25:45.047859Z",
     "shell.execute_reply": "2023-04-27T14:25:45.046523Z"
    },
    "papermill": {
     "duration": 0.0276,
     "end_time": "2023-04-27T14:25:45.050614",
     "exception": false,
     "start_time": "2023-04-27T14:25:45.023014",
     "status": "completed"
    },
    "tags": []
   },
   "outputs": [],
   "source": [
    "df.drop(['Status', 'unnamed1'], axis=1, inplace=True)"
   ]
  },
  {
   "cell_type": "code",
   "execution_count": 7,
   "id": "2c7886e7",
   "metadata": {
    "execution": {
     "iopub.execute_input": "2023-04-27T14:25:45.082803Z",
     "iopub.status.busy": "2023-04-27T14:25:45.081810Z",
     "iopub.status.idle": "2023-04-27T14:25:45.101867Z",
     "shell.execute_reply": "2023-04-27T14:25:45.100214Z"
    },
    "papermill": {
     "duration": 0.041022,
     "end_time": "2023-04-27T14:25:45.104539",
     "exception": false,
     "start_time": "2023-04-27T14:25:45.063517",
     "status": "completed"
    },
    "tags": []
   },
   "outputs": [
    {
     "name": "stdout",
     "output_type": "stream",
     "text": [
      "<class 'pandas.core.frame.DataFrame'>\n",
      "RangeIndex: 11251 entries, 0 to 11250\n",
      "Data columns (total 13 columns):\n",
      " #   Column            Non-Null Count  Dtype  \n",
      "---  ------            --------------  -----  \n",
      " 0   User_ID           11251 non-null  int64  \n",
      " 1   Cust_name         11251 non-null  object \n",
      " 2   Product_ID        11251 non-null  object \n",
      " 3   Gender            11251 non-null  object \n",
      " 4   Age Group         11251 non-null  object \n",
      " 5   Age               11251 non-null  int64  \n",
      " 6   Marital_Status    11251 non-null  int64  \n",
      " 7   State             11251 non-null  object \n",
      " 8   Zone              11251 non-null  object \n",
      " 9   Occupation        11251 non-null  object \n",
      " 10  Product_Category  11251 non-null  object \n",
      " 11  Orders            11251 non-null  int64  \n",
      " 12  Amount            11239 non-null  float64\n",
      "dtypes: float64(1), int64(4), object(8)\n",
      "memory usage: 1.1+ MB\n"
     ]
    }
   ],
   "source": [
    "df.info()"
   ]
  },
  {
   "cell_type": "code",
   "execution_count": 8,
   "id": "9fddae84",
   "metadata": {
    "execution": {
     "iopub.execute_input": "2023-04-27T14:25:45.140380Z",
     "iopub.status.busy": "2023-04-27T14:25:45.139500Z",
     "iopub.status.idle": "2023-04-27T14:25:45.178478Z",
     "shell.execute_reply": "2023-04-27T14:25:45.177266Z"
    },
    "papermill": {
     "duration": 0.062716,
     "end_time": "2023-04-27T14:25:45.181237",
     "exception": false,
     "start_time": "2023-04-27T14:25:45.118521",
     "status": "completed"
    },
    "tags": []
   },
   "outputs": [
    {
     "data": {
      "text/html": [
       "<div>\n",
       "<style scoped>\n",
       "    .dataframe tbody tr th:only-of-type {\n",
       "        vertical-align: middle;\n",
       "    }\n",
       "\n",
       "    .dataframe tbody tr th {\n",
       "        vertical-align: top;\n",
       "    }\n",
       "\n",
       "    .dataframe thead th {\n",
       "        text-align: right;\n",
       "    }\n",
       "</style>\n",
       "<table border=\"1\" class=\"dataframe\">\n",
       "  <thead>\n",
       "    <tr style=\"text-align: right;\">\n",
       "      <th></th>\n",
       "      <th>User_ID</th>\n",
       "      <th>Cust_name</th>\n",
       "      <th>Product_ID</th>\n",
       "      <th>Gender</th>\n",
       "      <th>Age Group</th>\n",
       "      <th>Age</th>\n",
       "      <th>Marital_Status</th>\n",
       "      <th>State</th>\n",
       "      <th>Zone</th>\n",
       "      <th>Occupation</th>\n",
       "      <th>Product_Category</th>\n",
       "      <th>Orders</th>\n",
       "      <th>Amount</th>\n",
       "    </tr>\n",
       "  </thead>\n",
       "  <tbody>\n",
       "    <tr>\n",
       "      <th>0</th>\n",
       "      <td>False</td>\n",
       "      <td>False</td>\n",
       "      <td>False</td>\n",
       "      <td>False</td>\n",
       "      <td>False</td>\n",
       "      <td>False</td>\n",
       "      <td>False</td>\n",
       "      <td>False</td>\n",
       "      <td>False</td>\n",
       "      <td>False</td>\n",
       "      <td>False</td>\n",
       "      <td>False</td>\n",
       "      <td>False</td>\n",
       "    </tr>\n",
       "    <tr>\n",
       "      <th>1</th>\n",
       "      <td>False</td>\n",
       "      <td>False</td>\n",
       "      <td>False</td>\n",
       "      <td>False</td>\n",
       "      <td>False</td>\n",
       "      <td>False</td>\n",
       "      <td>False</td>\n",
       "      <td>False</td>\n",
       "      <td>False</td>\n",
       "      <td>False</td>\n",
       "      <td>False</td>\n",
       "      <td>False</td>\n",
       "      <td>False</td>\n",
       "    </tr>\n",
       "    <tr>\n",
       "      <th>2</th>\n",
       "      <td>False</td>\n",
       "      <td>False</td>\n",
       "      <td>False</td>\n",
       "      <td>False</td>\n",
       "      <td>False</td>\n",
       "      <td>False</td>\n",
       "      <td>False</td>\n",
       "      <td>False</td>\n",
       "      <td>False</td>\n",
       "      <td>False</td>\n",
       "      <td>False</td>\n",
       "      <td>False</td>\n",
       "      <td>False</td>\n",
       "    </tr>\n",
       "    <tr>\n",
       "      <th>3</th>\n",
       "      <td>False</td>\n",
       "      <td>False</td>\n",
       "      <td>False</td>\n",
       "      <td>False</td>\n",
       "      <td>False</td>\n",
       "      <td>False</td>\n",
       "      <td>False</td>\n",
       "      <td>False</td>\n",
       "      <td>False</td>\n",
       "      <td>False</td>\n",
       "      <td>False</td>\n",
       "      <td>False</td>\n",
       "      <td>False</td>\n",
       "    </tr>\n",
       "    <tr>\n",
       "      <th>4</th>\n",
       "      <td>False</td>\n",
       "      <td>False</td>\n",
       "      <td>False</td>\n",
       "      <td>False</td>\n",
       "      <td>False</td>\n",
       "      <td>False</td>\n",
       "      <td>False</td>\n",
       "      <td>False</td>\n",
       "      <td>False</td>\n",
       "      <td>False</td>\n",
       "      <td>False</td>\n",
       "      <td>False</td>\n",
       "      <td>False</td>\n",
       "    </tr>\n",
       "    <tr>\n",
       "      <th>...</th>\n",
       "      <td>...</td>\n",
       "      <td>...</td>\n",
       "      <td>...</td>\n",
       "      <td>...</td>\n",
       "      <td>...</td>\n",
       "      <td>...</td>\n",
       "      <td>...</td>\n",
       "      <td>...</td>\n",
       "      <td>...</td>\n",
       "      <td>...</td>\n",
       "      <td>...</td>\n",
       "      <td>...</td>\n",
       "      <td>...</td>\n",
       "    </tr>\n",
       "    <tr>\n",
       "      <th>11246</th>\n",
       "      <td>False</td>\n",
       "      <td>False</td>\n",
       "      <td>False</td>\n",
       "      <td>False</td>\n",
       "      <td>False</td>\n",
       "      <td>False</td>\n",
       "      <td>False</td>\n",
       "      <td>False</td>\n",
       "      <td>False</td>\n",
       "      <td>False</td>\n",
       "      <td>False</td>\n",
       "      <td>False</td>\n",
       "      <td>False</td>\n",
       "    </tr>\n",
       "    <tr>\n",
       "      <th>11247</th>\n",
       "      <td>False</td>\n",
       "      <td>False</td>\n",
       "      <td>False</td>\n",
       "      <td>False</td>\n",
       "      <td>False</td>\n",
       "      <td>False</td>\n",
       "      <td>False</td>\n",
       "      <td>False</td>\n",
       "      <td>False</td>\n",
       "      <td>False</td>\n",
       "      <td>False</td>\n",
       "      <td>False</td>\n",
       "      <td>False</td>\n",
       "    </tr>\n",
       "    <tr>\n",
       "      <th>11248</th>\n",
       "      <td>False</td>\n",
       "      <td>False</td>\n",
       "      <td>False</td>\n",
       "      <td>False</td>\n",
       "      <td>False</td>\n",
       "      <td>False</td>\n",
       "      <td>False</td>\n",
       "      <td>False</td>\n",
       "      <td>False</td>\n",
       "      <td>False</td>\n",
       "      <td>False</td>\n",
       "      <td>False</td>\n",
       "      <td>False</td>\n",
       "    </tr>\n",
       "    <tr>\n",
       "      <th>11249</th>\n",
       "      <td>False</td>\n",
       "      <td>False</td>\n",
       "      <td>False</td>\n",
       "      <td>False</td>\n",
       "      <td>False</td>\n",
       "      <td>False</td>\n",
       "      <td>False</td>\n",
       "      <td>False</td>\n",
       "      <td>False</td>\n",
       "      <td>False</td>\n",
       "      <td>False</td>\n",
       "      <td>False</td>\n",
       "      <td>False</td>\n",
       "    </tr>\n",
       "    <tr>\n",
       "      <th>11250</th>\n",
       "      <td>False</td>\n",
       "      <td>False</td>\n",
       "      <td>False</td>\n",
       "      <td>False</td>\n",
       "      <td>False</td>\n",
       "      <td>False</td>\n",
       "      <td>False</td>\n",
       "      <td>False</td>\n",
       "      <td>False</td>\n",
       "      <td>False</td>\n",
       "      <td>False</td>\n",
       "      <td>False</td>\n",
       "      <td>False</td>\n",
       "    </tr>\n",
       "  </tbody>\n",
       "</table>\n",
       "<p>11251 rows × 13 columns</p>\n",
       "</div>"
      ],
      "text/plain": [
       "       User_ID  Cust_name  Product_ID  Gender  Age Group    Age  \\\n",
       "0        False      False       False   False      False  False   \n",
       "1        False      False       False   False      False  False   \n",
       "2        False      False       False   False      False  False   \n",
       "3        False      False       False   False      False  False   \n",
       "4        False      False       False   False      False  False   \n",
       "...        ...        ...         ...     ...        ...    ...   \n",
       "11246    False      False       False   False      False  False   \n",
       "11247    False      False       False   False      False  False   \n",
       "11248    False      False       False   False      False  False   \n",
       "11249    False      False       False   False      False  False   \n",
       "11250    False      False       False   False      False  False   \n",
       "\n",
       "       Marital_Status  State   Zone  Occupation  Product_Category  Orders  \\\n",
       "0               False  False  False       False             False   False   \n",
       "1               False  False  False       False             False   False   \n",
       "2               False  False  False       False             False   False   \n",
       "3               False  False  False       False             False   False   \n",
       "4               False  False  False       False             False   False   \n",
       "...               ...    ...    ...         ...               ...     ...   \n",
       "11246           False  False  False       False             False   False   \n",
       "11247           False  False  False       False             False   False   \n",
       "11248           False  False  False       False             False   False   \n",
       "11249           False  False  False       False             False   False   \n",
       "11250           False  False  False       False             False   False   \n",
       "\n",
       "       Amount  \n",
       "0       False  \n",
       "1       False  \n",
       "2       False  \n",
       "3       False  \n",
       "4       False  \n",
       "...       ...  \n",
       "11246   False  \n",
       "11247   False  \n",
       "11248   False  \n",
       "11249   False  \n",
       "11250   False  \n",
       "\n",
       "[11251 rows x 13 columns]"
      ]
     },
     "execution_count": 8,
     "metadata": {},
     "output_type": "execute_result"
    }
   ],
   "source": [
    "pd.isnull(df)"
   ]
  },
  {
   "cell_type": "code",
   "execution_count": 9,
   "id": "2df8c7a3",
   "metadata": {
    "execution": {
     "iopub.execute_input": "2023-04-27T14:25:45.211658Z",
     "iopub.status.busy": "2023-04-27T14:25:45.210785Z",
     "iopub.status.idle": "2023-04-27T14:25:45.225705Z",
     "shell.execute_reply": "2023-04-27T14:25:45.224439Z"
    },
    "papermill": {
     "duration": 0.032809,
     "end_time": "2023-04-27T14:25:45.228246",
     "exception": false,
     "start_time": "2023-04-27T14:25:45.195437",
     "status": "completed"
    },
    "tags": []
   },
   "outputs": [
    {
     "data": {
      "text/plain": [
       "User_ID              0\n",
       "Cust_name            0\n",
       "Product_ID           0\n",
       "Gender               0\n",
       "Age Group            0\n",
       "Age                  0\n",
       "Marital_Status       0\n",
       "State                0\n",
       "Zone                 0\n",
       "Occupation           0\n",
       "Product_Category     0\n",
       "Orders               0\n",
       "Amount              12\n",
       "dtype: int64"
      ]
     },
     "execution_count": 9,
     "metadata": {},
     "output_type": "execute_result"
    }
   ],
   "source": [
    "pd.isnull(df).sum()"
   ]
  },
  {
   "cell_type": "code",
   "execution_count": 10,
   "id": "f6d1371c",
   "metadata": {
    "execution": {
     "iopub.execute_input": "2023-04-27T14:25:45.257066Z",
     "iopub.status.busy": "2023-04-27T14:25:45.256153Z",
     "iopub.status.idle": "2023-04-27T14:25:45.271340Z",
     "shell.execute_reply": "2023-04-27T14:25:45.269986Z"
    },
    "papermill": {
     "duration": 0.033299,
     "end_time": "2023-04-27T14:25:45.274272",
     "exception": false,
     "start_time": "2023-04-27T14:25:45.240973",
     "status": "completed"
    },
    "tags": []
   },
   "outputs": [],
   "source": [
    "df.dropna(inplace=True)"
   ]
  },
  {
   "cell_type": "code",
   "execution_count": 11,
   "id": "fdd655f6",
   "metadata": {
    "execution": {
     "iopub.execute_input": "2023-04-27T14:25:45.302799Z",
     "iopub.status.busy": "2023-04-27T14:25:45.301319Z",
     "iopub.status.idle": "2023-04-27T14:25:45.309776Z",
     "shell.execute_reply": "2023-04-27T14:25:45.308597Z"
    },
    "papermill": {
     "duration": 0.025587,
     "end_time": "2023-04-27T14:25:45.312591",
     "exception": false,
     "start_time": "2023-04-27T14:25:45.287004",
     "status": "completed"
    },
    "tags": []
   },
   "outputs": [
    {
     "data": {
      "text/plain": [
       "(11239, 13)"
      ]
     },
     "execution_count": 11,
     "metadata": {},
     "output_type": "execute_result"
    }
   ],
   "source": [
    "df.shape"
   ]
  },
  {
   "cell_type": "code",
   "execution_count": 12,
   "id": "8acab0b1",
   "metadata": {
    "execution": {
     "iopub.execute_input": "2023-04-27T14:25:45.341771Z",
     "iopub.status.busy": "2023-04-27T14:25:45.340747Z",
     "iopub.status.idle": "2023-04-27T14:25:45.354986Z",
     "shell.execute_reply": "2023-04-27T14:25:45.354010Z"
    },
    "papermill": {
     "duration": 0.031909,
     "end_time": "2023-04-27T14:25:45.357767",
     "exception": false,
     "start_time": "2023-04-27T14:25:45.325858",
     "status": "completed"
    },
    "tags": []
   },
   "outputs": [
    {
     "data": {
      "text/html": [
       "<div>\n",
       "<style scoped>\n",
       "    .dataframe tbody tr th:only-of-type {\n",
       "        vertical-align: middle;\n",
       "    }\n",
       "\n",
       "    .dataframe tbody tr th {\n",
       "        vertical-align: top;\n",
       "    }\n",
       "\n",
       "    .dataframe thead th {\n",
       "        text-align: right;\n",
       "    }\n",
       "</style>\n",
       "<table border=\"1\" class=\"dataframe\">\n",
       "  <thead>\n",
       "    <tr style=\"text-align: right;\">\n",
       "      <th></th>\n",
       "      <th>Name</th>\n",
       "      <th>Age</th>\n",
       "    </tr>\n",
       "  </thead>\n",
       "  <tbody>\n",
       "    <tr>\n",
       "      <th>0</th>\n",
       "      <td>madhav</td>\n",
       "      <td>11.0</td>\n",
       "    </tr>\n",
       "    <tr>\n",
       "      <th>1</th>\n",
       "      <td>Gopi</td>\n",
       "      <td>15.0</td>\n",
       "    </tr>\n",
       "    <tr>\n",
       "      <th>2</th>\n",
       "      <td>Keshav</td>\n",
       "      <td>NaN</td>\n",
       "    </tr>\n",
       "    <tr>\n",
       "      <th>3</th>\n",
       "      <td>Lalita</td>\n",
       "      <td>16.0</td>\n",
       "    </tr>\n",
       "  </tbody>\n",
       "</table>\n",
       "</div>"
      ],
      "text/plain": [
       "     Name   Age\n",
       "0  madhav  11.0\n",
       "1    Gopi  15.0\n",
       "2  Keshav   NaN\n",
       "3  Lalita  16.0"
      ]
     },
     "execution_count": 12,
     "metadata": {},
     "output_type": "execute_result"
    }
   ],
   "source": [
    "data_test = ['madhav', 11], ['Gopi', 15], ['Keshav',], ['Lalita', 16]\n",
    "\n",
    "df_test = pd.DataFrame(data_test, columns = ['Name', 'Age'])\n",
    "\n",
    "df_test"
   ]
  },
  {
   "cell_type": "code",
   "execution_count": 13,
   "id": "13ab9488",
   "metadata": {
    "execution": {
     "iopub.execute_input": "2023-04-27T14:25:45.386730Z",
     "iopub.status.busy": "2023-04-27T14:25:45.385475Z",
     "iopub.status.idle": "2023-04-27T14:25:45.393387Z",
     "shell.execute_reply": "2023-04-27T14:25:45.392332Z"
    },
    "papermill": {
     "duration": 0.025246,
     "end_time": "2023-04-27T14:25:45.396279",
     "exception": false,
     "start_time": "2023-04-27T14:25:45.371033",
     "status": "completed"
    },
    "tags": []
   },
   "outputs": [],
   "source": [
    "df_test.dropna(inplace=True)"
   ]
  },
  {
   "cell_type": "code",
   "execution_count": 14,
   "id": "3b80ab9c",
   "metadata": {
    "execution": {
     "iopub.execute_input": "2023-04-27T14:25:45.425985Z",
     "iopub.status.busy": "2023-04-27T14:25:45.425138Z",
     "iopub.status.idle": "2023-04-27T14:25:45.436687Z",
     "shell.execute_reply": "2023-04-27T14:25:45.435455Z"
    },
    "papermill": {
     "duration": 0.029679,
     "end_time": "2023-04-27T14:25:45.439168",
     "exception": false,
     "start_time": "2023-04-27T14:25:45.409489",
     "status": "completed"
    },
    "tags": []
   },
   "outputs": [
    {
     "data": {
      "text/html": [
       "<div>\n",
       "<style scoped>\n",
       "    .dataframe tbody tr th:only-of-type {\n",
       "        vertical-align: middle;\n",
       "    }\n",
       "\n",
       "    .dataframe tbody tr th {\n",
       "        vertical-align: top;\n",
       "    }\n",
       "\n",
       "    .dataframe thead th {\n",
       "        text-align: right;\n",
       "    }\n",
       "</style>\n",
       "<table border=\"1\" class=\"dataframe\">\n",
       "  <thead>\n",
       "    <tr style=\"text-align: right;\">\n",
       "      <th></th>\n",
       "      <th>Name</th>\n",
       "      <th>Age</th>\n",
       "    </tr>\n",
       "  </thead>\n",
       "  <tbody>\n",
       "    <tr>\n",
       "      <th>0</th>\n",
       "      <td>madhav</td>\n",
       "      <td>11.0</td>\n",
       "    </tr>\n",
       "    <tr>\n",
       "      <th>1</th>\n",
       "      <td>Gopi</td>\n",
       "      <td>15.0</td>\n",
       "    </tr>\n",
       "    <tr>\n",
       "      <th>3</th>\n",
       "      <td>Lalita</td>\n",
       "      <td>16.0</td>\n",
       "    </tr>\n",
       "  </tbody>\n",
       "</table>\n",
       "</div>"
      ],
      "text/plain": [
       "     Name   Age\n",
       "0  madhav  11.0\n",
       "1    Gopi  15.0\n",
       "3  Lalita  16.0"
      ]
     },
     "execution_count": 14,
     "metadata": {},
     "output_type": "execute_result"
    }
   ],
   "source": [
    "df_test"
   ]
  },
  {
   "cell_type": "code",
   "execution_count": 15,
   "id": "1028de73",
   "metadata": {
    "execution": {
     "iopub.execute_input": "2023-04-27T14:25:45.469358Z",
     "iopub.status.busy": "2023-04-27T14:25:45.468472Z",
     "iopub.status.idle": "2023-04-27T14:25:45.474799Z",
     "shell.execute_reply": "2023-04-27T14:25:45.473935Z"
    },
    "papermill": {
     "duration": 0.024556,
     "end_time": "2023-04-27T14:25:45.477307",
     "exception": false,
     "start_time": "2023-04-27T14:25:45.452751",
     "status": "completed"
    },
    "tags": []
   },
   "outputs": [],
   "source": [
    "df['Amount'] = df['Amount'].astype('int')"
   ]
  },
  {
   "cell_type": "code",
   "execution_count": 16,
   "id": "18a3e920",
   "metadata": {
    "execution": {
     "iopub.execute_input": "2023-04-27T14:25:45.507413Z",
     "iopub.status.busy": "2023-04-27T14:25:45.506531Z",
     "iopub.status.idle": "2023-04-27T14:25:45.515055Z",
     "shell.execute_reply": "2023-04-27T14:25:45.513898Z"
    },
    "papermill": {
     "duration": 0.026764,
     "end_time": "2023-04-27T14:25:45.517772",
     "exception": false,
     "start_time": "2023-04-27T14:25:45.491008",
     "status": "completed"
    },
    "tags": []
   },
   "outputs": [
    {
     "data": {
      "text/plain": [
       "dtype('int64')"
      ]
     },
     "execution_count": 16,
     "metadata": {},
     "output_type": "execute_result"
    }
   ],
   "source": [
    "df['Amount'].dtypes"
   ]
  },
  {
   "cell_type": "code",
   "execution_count": 17,
   "id": "19bc61e7",
   "metadata": {
    "execution": {
     "iopub.execute_input": "2023-04-27T14:25:45.547230Z",
     "iopub.status.busy": "2023-04-27T14:25:45.546398Z",
     "iopub.status.idle": "2023-04-27T14:25:45.554318Z",
     "shell.execute_reply": "2023-04-27T14:25:45.553094Z"
    },
    "papermill": {
     "duration": 0.025616,
     "end_time": "2023-04-27T14:25:45.556895",
     "exception": false,
     "start_time": "2023-04-27T14:25:45.531279",
     "status": "completed"
    },
    "tags": []
   },
   "outputs": [
    {
     "data": {
      "text/plain": [
       "Index(['User_ID', 'Cust_name', 'Product_ID', 'Gender', 'Age Group', 'Age',\n",
       "       'Marital_Status', 'State', 'Zone', 'Occupation', 'Product_Category',\n",
       "       'Orders', 'Amount'],\n",
       "      dtype='object')"
      ]
     },
     "execution_count": 17,
     "metadata": {},
     "output_type": "execute_result"
    }
   ],
   "source": [
    "df.columns"
   ]
  },
  {
   "cell_type": "code",
   "execution_count": 18,
   "id": "43b5f935",
   "metadata": {
    "execution": {
     "iopub.execute_input": "2023-04-27T14:25:45.586690Z",
     "iopub.status.busy": "2023-04-27T14:25:45.585838Z",
     "iopub.status.idle": "2023-04-27T14:25:45.610576Z",
     "shell.execute_reply": "2023-04-27T14:25:45.609239Z"
    },
    "papermill": {
     "duration": 0.042533,
     "end_time": "2023-04-27T14:25:45.613307",
     "exception": false,
     "start_time": "2023-04-27T14:25:45.570774",
     "status": "completed"
    },
    "tags": []
   },
   "outputs": [
    {
     "data": {
      "text/html": [
       "<div>\n",
       "<style scoped>\n",
       "    .dataframe tbody tr th:only-of-type {\n",
       "        vertical-align: middle;\n",
       "    }\n",
       "\n",
       "    .dataframe tbody tr th {\n",
       "        vertical-align: top;\n",
       "    }\n",
       "\n",
       "    .dataframe thead th {\n",
       "        text-align: right;\n",
       "    }\n",
       "</style>\n",
       "<table border=\"1\" class=\"dataframe\">\n",
       "  <thead>\n",
       "    <tr style=\"text-align: right;\">\n",
       "      <th></th>\n",
       "      <th>User_ID</th>\n",
       "      <th>Cust_name</th>\n",
       "      <th>Product_ID</th>\n",
       "      <th>Gender</th>\n",
       "      <th>Age Group</th>\n",
       "      <th>Age</th>\n",
       "      <th>Shaadi</th>\n",
       "      <th>State</th>\n",
       "      <th>Zone</th>\n",
       "      <th>Occupation</th>\n",
       "      <th>Product_Category</th>\n",
       "      <th>Orders</th>\n",
       "      <th>Amount</th>\n",
       "    </tr>\n",
       "  </thead>\n",
       "  <tbody>\n",
       "    <tr>\n",
       "      <th>0</th>\n",
       "      <td>1002903</td>\n",
       "      <td>Sanskriti</td>\n",
       "      <td>P00125942</td>\n",
       "      <td>F</td>\n",
       "      <td>26-35</td>\n",
       "      <td>28</td>\n",
       "      <td>0</td>\n",
       "      <td>Maharashtra</td>\n",
       "      <td>Western</td>\n",
       "      <td>Healthcare</td>\n",
       "      <td>Auto</td>\n",
       "      <td>1</td>\n",
       "      <td>23952</td>\n",
       "    </tr>\n",
       "    <tr>\n",
       "      <th>1</th>\n",
       "      <td>1000732</td>\n",
       "      <td>Kartik</td>\n",
       "      <td>P00110942</td>\n",
       "      <td>F</td>\n",
       "      <td>26-35</td>\n",
       "      <td>35</td>\n",
       "      <td>1</td>\n",
       "      <td>Andhra Pradesh</td>\n",
       "      <td>Southern</td>\n",
       "      <td>Govt</td>\n",
       "      <td>Auto</td>\n",
       "      <td>3</td>\n",
       "      <td>23934</td>\n",
       "    </tr>\n",
       "    <tr>\n",
       "      <th>2</th>\n",
       "      <td>1001990</td>\n",
       "      <td>Bindu</td>\n",
       "      <td>P00118542</td>\n",
       "      <td>F</td>\n",
       "      <td>26-35</td>\n",
       "      <td>35</td>\n",
       "      <td>1</td>\n",
       "      <td>Uttar Pradesh</td>\n",
       "      <td>Central</td>\n",
       "      <td>Automobile</td>\n",
       "      <td>Auto</td>\n",
       "      <td>3</td>\n",
       "      <td>23924</td>\n",
       "    </tr>\n",
       "    <tr>\n",
       "      <th>3</th>\n",
       "      <td>1001425</td>\n",
       "      <td>Sudevi</td>\n",
       "      <td>P00237842</td>\n",
       "      <td>M</td>\n",
       "      <td>0-17</td>\n",
       "      <td>16</td>\n",
       "      <td>0</td>\n",
       "      <td>Karnataka</td>\n",
       "      <td>Southern</td>\n",
       "      <td>Construction</td>\n",
       "      <td>Auto</td>\n",
       "      <td>2</td>\n",
       "      <td>23912</td>\n",
       "    </tr>\n",
       "    <tr>\n",
       "      <th>4</th>\n",
       "      <td>1000588</td>\n",
       "      <td>Joni</td>\n",
       "      <td>P00057942</td>\n",
       "      <td>M</td>\n",
       "      <td>26-35</td>\n",
       "      <td>28</td>\n",
       "      <td>1</td>\n",
       "      <td>Gujarat</td>\n",
       "      <td>Western</td>\n",
       "      <td>Food Processing</td>\n",
       "      <td>Auto</td>\n",
       "      <td>2</td>\n",
       "      <td>23877</td>\n",
       "    </tr>\n",
       "    <tr>\n",
       "      <th>...</th>\n",
       "      <td>...</td>\n",
       "      <td>...</td>\n",
       "      <td>...</td>\n",
       "      <td>...</td>\n",
       "      <td>...</td>\n",
       "      <td>...</td>\n",
       "      <td>...</td>\n",
       "      <td>...</td>\n",
       "      <td>...</td>\n",
       "      <td>...</td>\n",
       "      <td>...</td>\n",
       "      <td>...</td>\n",
       "      <td>...</td>\n",
       "    </tr>\n",
       "    <tr>\n",
       "      <th>11246</th>\n",
       "      <td>1000695</td>\n",
       "      <td>Manning</td>\n",
       "      <td>P00296942</td>\n",
       "      <td>M</td>\n",
       "      <td>18-25</td>\n",
       "      <td>19</td>\n",
       "      <td>1</td>\n",
       "      <td>Maharashtra</td>\n",
       "      <td>Western</td>\n",
       "      <td>Chemical</td>\n",
       "      <td>Office</td>\n",
       "      <td>4</td>\n",
       "      <td>370</td>\n",
       "    </tr>\n",
       "    <tr>\n",
       "      <th>11247</th>\n",
       "      <td>1004089</td>\n",
       "      <td>Reichenbach</td>\n",
       "      <td>P00171342</td>\n",
       "      <td>M</td>\n",
       "      <td>26-35</td>\n",
       "      <td>33</td>\n",
       "      <td>0</td>\n",
       "      <td>Haryana</td>\n",
       "      <td>Northern</td>\n",
       "      <td>Healthcare</td>\n",
       "      <td>Veterinary</td>\n",
       "      <td>3</td>\n",
       "      <td>367</td>\n",
       "    </tr>\n",
       "    <tr>\n",
       "      <th>11248</th>\n",
       "      <td>1001209</td>\n",
       "      <td>Oshin</td>\n",
       "      <td>P00201342</td>\n",
       "      <td>F</td>\n",
       "      <td>36-45</td>\n",
       "      <td>40</td>\n",
       "      <td>0</td>\n",
       "      <td>Madhya Pradesh</td>\n",
       "      <td>Central</td>\n",
       "      <td>Textile</td>\n",
       "      <td>Office</td>\n",
       "      <td>4</td>\n",
       "      <td>213</td>\n",
       "    </tr>\n",
       "    <tr>\n",
       "      <th>11249</th>\n",
       "      <td>1004023</td>\n",
       "      <td>Noonan</td>\n",
       "      <td>P00059442</td>\n",
       "      <td>M</td>\n",
       "      <td>36-45</td>\n",
       "      <td>37</td>\n",
       "      <td>0</td>\n",
       "      <td>Karnataka</td>\n",
       "      <td>Southern</td>\n",
       "      <td>Agriculture</td>\n",
       "      <td>Office</td>\n",
       "      <td>3</td>\n",
       "      <td>206</td>\n",
       "    </tr>\n",
       "    <tr>\n",
       "      <th>11250</th>\n",
       "      <td>1002744</td>\n",
       "      <td>Brumley</td>\n",
       "      <td>P00281742</td>\n",
       "      <td>F</td>\n",
       "      <td>18-25</td>\n",
       "      <td>19</td>\n",
       "      <td>0</td>\n",
       "      <td>Maharashtra</td>\n",
       "      <td>Western</td>\n",
       "      <td>Healthcare</td>\n",
       "      <td>Office</td>\n",
       "      <td>3</td>\n",
       "      <td>188</td>\n",
       "    </tr>\n",
       "  </tbody>\n",
       "</table>\n",
       "<p>11239 rows × 13 columns</p>\n",
       "</div>"
      ],
      "text/plain": [
       "       User_ID    Cust_name Product_ID Gender Age Group  Age  Shaadi  \\\n",
       "0      1002903    Sanskriti  P00125942      F     26-35   28       0   \n",
       "1      1000732       Kartik  P00110942      F     26-35   35       1   \n",
       "2      1001990        Bindu  P00118542      F     26-35   35       1   \n",
       "3      1001425       Sudevi  P00237842      M      0-17   16       0   \n",
       "4      1000588         Joni  P00057942      M     26-35   28       1   \n",
       "...        ...          ...        ...    ...       ...  ...     ...   \n",
       "11246  1000695      Manning  P00296942      M     18-25   19       1   \n",
       "11247  1004089  Reichenbach  P00171342      M     26-35   33       0   \n",
       "11248  1001209        Oshin  P00201342      F     36-45   40       0   \n",
       "11249  1004023       Noonan  P00059442      M     36-45   37       0   \n",
       "11250  1002744      Brumley  P00281742      F     18-25   19       0   \n",
       "\n",
       "                State      Zone       Occupation Product_Category  Orders  \\\n",
       "0         Maharashtra   Western       Healthcare             Auto       1   \n",
       "1      Andhra Pradesh  Southern             Govt             Auto       3   \n",
       "2       Uttar Pradesh   Central       Automobile             Auto       3   \n",
       "3           Karnataka  Southern     Construction             Auto       2   \n",
       "4             Gujarat   Western  Food Processing             Auto       2   \n",
       "...               ...       ...              ...              ...     ...   \n",
       "11246     Maharashtra   Western         Chemical           Office       4   \n",
       "11247         Haryana  Northern       Healthcare       Veterinary       3   \n",
       "11248  Madhya Pradesh   Central          Textile           Office       4   \n",
       "11249       Karnataka  Southern      Agriculture           Office       3   \n",
       "11250     Maharashtra   Western       Healthcare           Office       3   \n",
       "\n",
       "       Amount  \n",
       "0       23952  \n",
       "1       23934  \n",
       "2       23924  \n",
       "3       23912  \n",
       "4       23877  \n",
       "...       ...  \n",
       "11246     370  \n",
       "11247     367  \n",
       "11248     213  \n",
       "11249     206  \n",
       "11250     188  \n",
       "\n",
       "[11239 rows x 13 columns]"
      ]
     },
     "execution_count": 18,
     "metadata": {},
     "output_type": "execute_result"
    }
   ],
   "source": [
    "df.rename(columns = {'Marital_Status' : 'Shaadi'})"
   ]
  },
  {
   "cell_type": "code",
   "execution_count": 19,
   "id": "4049a198",
   "metadata": {
    "execution": {
     "iopub.execute_input": "2023-04-27T14:25:45.645324Z",
     "iopub.status.busy": "2023-04-27T14:25:45.644441Z",
     "iopub.status.idle": "2023-04-27T14:25:45.682284Z",
     "shell.execute_reply": "2023-04-27T14:25:45.681002Z"
    },
    "papermill": {
     "duration": 0.057762,
     "end_time": "2023-04-27T14:25:45.685473",
     "exception": false,
     "start_time": "2023-04-27T14:25:45.627711",
     "status": "completed"
    },
    "tags": []
   },
   "outputs": [
    {
     "data": {
      "text/html": [
       "<div>\n",
       "<style scoped>\n",
       "    .dataframe tbody tr th:only-of-type {\n",
       "        vertical-align: middle;\n",
       "    }\n",
       "\n",
       "    .dataframe tbody tr th {\n",
       "        vertical-align: top;\n",
       "    }\n",
       "\n",
       "    .dataframe thead th {\n",
       "        text-align: right;\n",
       "    }\n",
       "</style>\n",
       "<table border=\"1\" class=\"dataframe\">\n",
       "  <thead>\n",
       "    <tr style=\"text-align: right;\">\n",
       "      <th></th>\n",
       "      <th>User_ID</th>\n",
       "      <th>Age</th>\n",
       "      <th>Marital_Status</th>\n",
       "      <th>Orders</th>\n",
       "      <th>Amount</th>\n",
       "    </tr>\n",
       "  </thead>\n",
       "  <tbody>\n",
       "    <tr>\n",
       "      <th>count</th>\n",
       "      <td>1.123900e+04</td>\n",
       "      <td>11239.000000</td>\n",
       "      <td>11239.000000</td>\n",
       "      <td>11239.000000</td>\n",
       "      <td>11239.000000</td>\n",
       "    </tr>\n",
       "    <tr>\n",
       "      <th>mean</th>\n",
       "      <td>1.003004e+06</td>\n",
       "      <td>35.410357</td>\n",
       "      <td>0.420055</td>\n",
       "      <td>2.489634</td>\n",
       "      <td>9453.610553</td>\n",
       "    </tr>\n",
       "    <tr>\n",
       "      <th>std</th>\n",
       "      <td>1.716039e+03</td>\n",
       "      <td>12.753866</td>\n",
       "      <td>0.493589</td>\n",
       "      <td>1.114967</td>\n",
       "      <td>5222.355168</td>\n",
       "    </tr>\n",
       "    <tr>\n",
       "      <th>min</th>\n",
       "      <td>1.000001e+06</td>\n",
       "      <td>12.000000</td>\n",
       "      <td>0.000000</td>\n",
       "      <td>1.000000</td>\n",
       "      <td>188.000000</td>\n",
       "    </tr>\n",
       "    <tr>\n",
       "      <th>25%</th>\n",
       "      <td>1.001492e+06</td>\n",
       "      <td>27.000000</td>\n",
       "      <td>0.000000</td>\n",
       "      <td>2.000000</td>\n",
       "      <td>5443.000000</td>\n",
       "    </tr>\n",
       "    <tr>\n",
       "      <th>50%</th>\n",
       "      <td>1.003064e+06</td>\n",
       "      <td>33.000000</td>\n",
       "      <td>0.000000</td>\n",
       "      <td>2.000000</td>\n",
       "      <td>8109.000000</td>\n",
       "    </tr>\n",
       "    <tr>\n",
       "      <th>75%</th>\n",
       "      <td>1.004426e+06</td>\n",
       "      <td>43.000000</td>\n",
       "      <td>1.000000</td>\n",
       "      <td>3.000000</td>\n",
       "      <td>12675.000000</td>\n",
       "    </tr>\n",
       "    <tr>\n",
       "      <th>max</th>\n",
       "      <td>1.006040e+06</td>\n",
       "      <td>92.000000</td>\n",
       "      <td>1.000000</td>\n",
       "      <td>4.000000</td>\n",
       "      <td>23952.000000</td>\n",
       "    </tr>\n",
       "  </tbody>\n",
       "</table>\n",
       "</div>"
      ],
      "text/plain": [
       "            User_ID           Age  Marital_Status        Orders        Amount\n",
       "count  1.123900e+04  11239.000000    11239.000000  11239.000000  11239.000000\n",
       "mean   1.003004e+06     35.410357        0.420055      2.489634   9453.610553\n",
       "std    1.716039e+03     12.753866        0.493589      1.114967   5222.355168\n",
       "min    1.000001e+06     12.000000        0.000000      1.000000    188.000000\n",
       "25%    1.001492e+06     27.000000        0.000000      2.000000   5443.000000\n",
       "50%    1.003064e+06     33.000000        0.000000      2.000000   8109.000000\n",
       "75%    1.004426e+06     43.000000        1.000000      3.000000  12675.000000\n",
       "max    1.006040e+06     92.000000        1.000000      4.000000  23952.000000"
      ]
     },
     "execution_count": 19,
     "metadata": {},
     "output_type": "execute_result"
    }
   ],
   "source": [
    "df.describe()"
   ]
  },
  {
   "cell_type": "code",
   "execution_count": 20,
   "id": "0a963bc2",
   "metadata": {
    "execution": {
     "iopub.execute_input": "2023-04-27T14:25:45.716837Z",
     "iopub.status.busy": "2023-04-27T14:25:45.715984Z",
     "iopub.status.idle": "2023-04-27T14:25:45.741695Z",
     "shell.execute_reply": "2023-04-27T14:25:45.740374Z"
    },
    "papermill": {
     "duration": 0.043923,
     "end_time": "2023-04-27T14:25:45.744391",
     "exception": false,
     "start_time": "2023-04-27T14:25:45.700468",
     "status": "completed"
    },
    "tags": []
   },
   "outputs": [
    {
     "data": {
      "text/html": [
       "<div>\n",
       "<style scoped>\n",
       "    .dataframe tbody tr th:only-of-type {\n",
       "        vertical-align: middle;\n",
       "    }\n",
       "\n",
       "    .dataframe tbody tr th {\n",
       "        vertical-align: top;\n",
       "    }\n",
       "\n",
       "    .dataframe thead th {\n",
       "        text-align: right;\n",
       "    }\n",
       "</style>\n",
       "<table border=\"1\" class=\"dataframe\">\n",
       "  <thead>\n",
       "    <tr style=\"text-align: right;\">\n",
       "      <th></th>\n",
       "      <th>Age</th>\n",
       "      <th>Orders</th>\n",
       "      <th>Amount</th>\n",
       "    </tr>\n",
       "  </thead>\n",
       "  <tbody>\n",
       "    <tr>\n",
       "      <th>count</th>\n",
       "      <td>11239.000000</td>\n",
       "      <td>11239.000000</td>\n",
       "      <td>11239.000000</td>\n",
       "    </tr>\n",
       "    <tr>\n",
       "      <th>mean</th>\n",
       "      <td>35.410357</td>\n",
       "      <td>2.489634</td>\n",
       "      <td>9453.610553</td>\n",
       "    </tr>\n",
       "    <tr>\n",
       "      <th>std</th>\n",
       "      <td>12.753866</td>\n",
       "      <td>1.114967</td>\n",
       "      <td>5222.355168</td>\n",
       "    </tr>\n",
       "    <tr>\n",
       "      <th>min</th>\n",
       "      <td>12.000000</td>\n",
       "      <td>1.000000</td>\n",
       "      <td>188.000000</td>\n",
       "    </tr>\n",
       "    <tr>\n",
       "      <th>25%</th>\n",
       "      <td>27.000000</td>\n",
       "      <td>2.000000</td>\n",
       "      <td>5443.000000</td>\n",
       "    </tr>\n",
       "    <tr>\n",
       "      <th>50%</th>\n",
       "      <td>33.000000</td>\n",
       "      <td>2.000000</td>\n",
       "      <td>8109.000000</td>\n",
       "    </tr>\n",
       "    <tr>\n",
       "      <th>75%</th>\n",
       "      <td>43.000000</td>\n",
       "      <td>3.000000</td>\n",
       "      <td>12675.000000</td>\n",
       "    </tr>\n",
       "    <tr>\n",
       "      <th>max</th>\n",
       "      <td>92.000000</td>\n",
       "      <td>4.000000</td>\n",
       "      <td>23952.000000</td>\n",
       "    </tr>\n",
       "  </tbody>\n",
       "</table>\n",
       "</div>"
      ],
      "text/plain": [
       "                Age        Orders        Amount\n",
       "count  11239.000000  11239.000000  11239.000000\n",
       "mean      35.410357      2.489634   9453.610553\n",
       "std       12.753866      1.114967   5222.355168\n",
       "min       12.000000      1.000000    188.000000\n",
       "25%       27.000000      2.000000   5443.000000\n",
       "50%       33.000000      2.000000   8109.000000\n",
       "75%       43.000000      3.000000  12675.000000\n",
       "max       92.000000      4.000000  23952.000000"
      ]
     },
     "execution_count": 20,
     "metadata": {},
     "output_type": "execute_result"
    }
   ],
   "source": [
    "df[['Age', 'Orders', 'Amount']].describe()"
   ]
  },
  {
   "cell_type": "markdown",
   "id": "86d5e236",
   "metadata": {
    "papermill": {
     "duration": 0.014325,
     "end_time": "2023-04-27T14:25:45.773428",
     "exception": false,
     "start_time": "2023-04-27T14:25:45.759103",
     "status": "completed"
    },
    "tags": []
   },
   "source": [
    "# **Exploratory Data Analysis**"
   ]
  },
  {
   "cell_type": "markdown",
   "id": "784f84fe",
   "metadata": {
    "papermill": {
     "duration": 0.014901,
     "end_time": "2023-04-27T14:25:45.802709",
     "exception": false,
     "start_time": "2023-04-27T14:25:45.787808",
     "status": "completed"
    },
    "tags": []
   },
   "source": [
    "**Gender**"
   ]
  },
  {
   "cell_type": "code",
   "execution_count": 21,
   "id": "7afc4ed4",
   "metadata": {
    "execution": {
     "iopub.execute_input": "2023-04-27T14:25:45.834283Z",
     "iopub.status.busy": "2023-04-27T14:25:45.833419Z",
     "iopub.status.idle": "2023-04-27T14:25:45.841569Z",
     "shell.execute_reply": "2023-04-27T14:25:45.840102Z"
    },
    "papermill": {
     "duration": 0.026762,
     "end_time": "2023-04-27T14:25:45.844261",
     "exception": false,
     "start_time": "2023-04-27T14:25:45.817499",
     "status": "completed"
    },
    "tags": []
   },
   "outputs": [
    {
     "data": {
      "text/plain": [
       "Index(['User_ID', 'Cust_name', 'Product_ID', 'Gender', 'Age Group', 'Age',\n",
       "       'Marital_Status', 'State', 'Zone', 'Occupation', 'Product_Category',\n",
       "       'Orders', 'Amount'],\n",
       "      dtype='object')"
      ]
     },
     "execution_count": 21,
     "metadata": {},
     "output_type": "execute_result"
    }
   ],
   "source": [
    "df.columns"
   ]
  },
  {
   "cell_type": "code",
   "execution_count": 22,
   "id": "8215060c",
   "metadata": {
    "execution": {
     "iopub.execute_input": "2023-04-27T14:25:45.875683Z",
     "iopub.status.busy": "2023-04-27T14:25:45.875216Z",
     "iopub.status.idle": "2023-04-27T14:25:46.156528Z",
     "shell.execute_reply": "2023-04-27T14:25:46.155472Z"
    },
    "papermill": {
     "duration": 0.301206,
     "end_time": "2023-04-27T14:25:46.160145",
     "exception": false,
     "start_time": "2023-04-27T14:25:45.858939",
     "status": "completed"
    },
    "tags": []
   },
   "outputs": [
    {
     "data": {
      "image/png": "[encoded data removed]",
      "text/plain": [
       "<Figure size 640x480 with 1 Axes>"
      ]
     },
     "metadata": {},
     "output_type": "display_data"
    }
   ],
   "source": [
    "ax = sns.countplot(x= 'Gender', data = df)\n",
    "\n",
    "for bars in ax.containers :\n",
    "    ax.bar_label(bars)"
   ]
  },
  {
   "cell_type": "code",
   "execution_count": 23,
   "id": "d4cb9974",
   "metadata": {
    "execution": {
     "iopub.execute_input": "2023-04-27T14:25:46.192240Z",
     "iopub.status.busy": "2023-04-27T14:25:46.191822Z",
     "iopub.status.idle": "2023-04-27T14:25:46.208923Z",
     "shell.execute_reply": "2023-04-27T14:25:46.207901Z"
    },
    "papermill": {
     "duration": 0.036521,
     "end_time": "2023-04-27T14:25:46.211514",
     "exception": false,
     "start_time": "2023-04-27T14:25:46.174993",
     "status": "completed"
    },
    "tags": []
   },
   "outputs": [
    {
     "data": {
      "text/html": [
       "<div>\n",
       "<style scoped>\n",
       "    .dataframe tbody tr th:only-of-type {\n",
       "        vertical-align: middle;\n",
       "    }\n",
       "\n",
       "    .dataframe tbody tr th {\n",
       "        vertical-align: top;\n",
       "    }\n",
       "\n",
       "    .dataframe thead th {\n",
       "        text-align: right;\n",
       "    }\n",
       "</style>\n",
       "<table border=\"1\" class=\"dataframe\">\n",
       "  <thead>\n",
       "    <tr style=\"text-align: right;\">\n",
       "      <th></th>\n",
       "      <th>Gender</th>\n",
       "      <th>Amount</th>\n",
       "    </tr>\n",
       "  </thead>\n",
       "  <tbody>\n",
       "    <tr>\n",
       "      <th>0</th>\n",
       "      <td>F</td>\n",
       "      <td>74335853</td>\n",
       "    </tr>\n",
       "    <tr>\n",
       "      <th>1</th>\n",
       "      <td>M</td>\n",
       "      <td>31913276</td>\n",
       "    </tr>\n",
       "  </tbody>\n",
       "</table>\n",
       "</div>"
      ],
      "text/plain": [
       "  Gender    Amount\n",
       "0      F  74335853\n",
       "1      M  31913276"
      ]
     },
     "execution_count": 23,
     "metadata": {},
     "output_type": "execute_result"
    }
   ],
   "source": [
    "df.groupby(['Gender'], as_index=False)['Amount'].sum().sort_values(by='Amount', ascending=False)"
   ]
  },
  {
   "cell_type": "code",
   "execution_count": 24,
   "id": "62649e63",
   "metadata": {
    "execution": {
     "iopub.execute_input": "2023-04-27T14:25:46.244678Z",
     "iopub.status.busy": "2023-04-27T14:25:46.243869Z",
     "iopub.status.idle": "2023-04-27T14:25:46.467969Z",
     "shell.execute_reply": "2023-04-27T14:25:46.466753Z"
    },
    "papermill": {
     "duration": 0.244463,
     "end_time": "2023-04-27T14:25:46.471164",
     "exception": false,
     "start_time": "2023-04-27T14:25:46.226701",
     "status": "completed"
    },
    "tags": []
   },
   "outputs": [
    {
     "data": {
      "text/plain": [
       "<AxesSubplot:xlabel='Gender', ylabel='Amount'>"
      ]
     },
     "execution_count": 24,
     "metadata": {},
     "output_type": "execute_result"
    },
    {
     "data": {
      "image/png": "[encoded data removed]",
      "text/plain": [
       "<Figure size 640x480 with 1 Axes>"
      ]
     },
     "metadata": {},
     "output_type": "display_data"
    }
   ],
   "source": [
    "sales_gen = df.groupby(['Gender'], as_index=False)['Amount'].sum().sort_values(by='Amount', ascending=False)\n",
    "\n",
    "sns.barplot(x= 'Gender', y= 'Amount', data = sales_gen)"
   ]
  },
  {
   "cell_type": "markdown",
   "id": "88874dca",
   "metadata": {
    "papermill": {
     "duration": 0.015711,
     "end_time": "2023-04-27T14:25:46.502207",
     "exception": false,
     "start_time": "2023-04-27T14:25:46.486496",
     "status": "completed"
    },
    "tags": []
   },
   "source": [
    "***From above graphs we can see that most of the buyers are females and even the purchasing power of females are greater than men***"
   ]
  },
  {
   "cell_type": "markdown",
   "id": "558de52a",
   "metadata": {
    "papermill": {
     "duration": 0.015072,
     "end_time": "2023-04-27T14:25:46.533052",
     "exception": false,
     "start_time": "2023-04-27T14:25:46.517980",
     "status": "completed"
    },
    "tags": []
   },
   "source": [
    "**Age**"
   ]
  },
  {
   "cell_type": "code",
   "execution_count": 25,
   "id": "ac2c19d3",
   "metadata": {
    "execution": {
     "iopub.execute_input": "2023-04-27T14:25:46.565969Z",
     "iopub.status.busy": "2023-04-27T14:25:46.565581Z",
     "iopub.status.idle": "2023-04-27T14:25:46.573427Z",
     "shell.execute_reply": "2023-04-27T14:25:46.572034Z"
    },
    "papermill": {
     "duration": 0.027583,
     "end_time": "2023-04-27T14:25:46.575916",
     "exception": false,
     "start_time": "2023-04-27T14:25:46.548333",
     "status": "completed"
    },
    "tags": []
   },
   "outputs": [
    {
     "data": {
      "text/plain": [
       "Index(['User_ID', 'Cust_name', 'Product_ID', 'Gender', 'Age Group', 'Age',\n",
       "       'Marital_Status', 'State', 'Zone', 'Occupation', 'Product_Category',\n",
       "       'Orders', 'Amount'],\n",
       "      dtype='object')"
      ]
     },
     "execution_count": 25,
     "metadata": {},
     "output_type": "execute_result"
    }
   ],
   "source": [
    "df.columns"
   ]
  },
  {
   "cell_type": "code",
   "execution_count": 26,
   "id": "f725f820",
   "metadata": {
    "execution": {
     "iopub.execute_input": "2023-04-27T14:25:46.609811Z",
     "iopub.status.busy": "2023-04-27T14:25:46.608744Z",
     "iopub.status.idle": "2023-04-27T14:25:46.997964Z",
     "shell.execute_reply": "2023-04-27T14:25:46.996504Z"
    },
    "papermill": {
     "duration": 0.409225,
     "end_time": "2023-04-27T14:25:47.000976",
     "exception": false,
     "start_time": "2023-04-27T14:25:46.591751",
     "status": "completed"
    },
    "tags": []
   },
   "outputs": [
    {
     "data": {
      "image/png": "[encoded data removed]",
      "text/plain": [
       "<Figure size 640x480 with 1 Axes>"
      ]
     },
     "metadata": {},
     "output_type": "display_data"
    }
   ],
   "source": [
    "ax = sns.countplot(data = df, x = 'Age Group', hue = 'Gender')\n",
    "\n",
    "for bars in ax.containers:\n",
    "    ax.bar_label(bars)"
   ]
  },
  {
   "cell_type": "markdown",
   "id": "afab7dae",
   "metadata": {
    "papermill": {
     "duration": 0.015226,
     "end_time": "2023-04-27T14:25:47.032565",
     "exception": false,
     "start_time": "2023-04-27T14:25:47.017339",
     "status": "completed"
    },
    "tags": []
   },
   "source": [
    "***From above graphs we can see that most of the buyers are of age between  26-35 yrs female***"
   ]
  },
  {
   "cell_type": "markdown",
   "id": "a5d4a44a",
   "metadata": {
    "execution": {
     "iopub.execute_input": "2023-04-27T13:27:36.602611Z",
     "iopub.status.busy": "2023-04-27T13:27:36.602124Z",
     "iopub.status.idle": "2023-04-27T13:27:36.608615Z",
     "shell.execute_reply": "2023-04-27T13:27:36.607212Z",
     "shell.execute_reply.started": "2023-04-27T13:27:36.602562Z"
    },
    "papermill": {
     "duration": 0.015259,
     "end_time": "2023-04-27T14:25:47.063393",
     "exception": false,
     "start_time": "2023-04-27T14:25:47.048134",
     "status": "completed"
    },
    "tags": []
   },
   "source": [
    "# **State**"
   ]
  },
  {
   "cell_type": "code",
   "execution_count": 27,
   "id": "0594b870",
   "metadata": {
    "execution": {
     "iopub.execute_input": "2023-04-27T14:25:47.097790Z",
     "iopub.status.busy": "2023-04-27T14:25:47.096453Z",
     "iopub.status.idle": "2023-04-27T14:25:47.105022Z",
     "shell.execute_reply": "2023-04-27T14:25:47.103754Z"
    },
    "papermill": {
     "duration": 0.028272,
     "end_time": "2023-04-27T14:25:47.107397",
     "exception": false,
     "start_time": "2023-04-27T14:25:47.079125",
     "status": "completed"
    },
    "tags": []
   },
   "outputs": [
    {
     "data": {
      "text/plain": [
       "Index(['User_ID', 'Cust_name', 'Product_ID', 'Gender', 'Age Group', 'Age',\n",
       "       'Marital_Status', 'State', 'Zone', 'Occupation', 'Product_Category',\n",
       "       'Orders', 'Amount'],\n",
       "      dtype='object')"
      ]
     },
     "execution_count": 27,
     "metadata": {},
     "output_type": "execute_result"
    }
   ],
   "source": [
    "df.columns"
   ]
  },
  {
   "cell_type": "code",
   "execution_count": 28,
   "id": "fc9df7fd",
   "metadata": {
    "execution": {
     "iopub.execute_input": "2023-04-27T14:25:47.143686Z",
     "iopub.status.busy": "2023-04-27T14:25:47.142614Z",
     "iopub.status.idle": "2023-04-27T14:25:47.535169Z",
     "shell.execute_reply": "2023-04-27T14:25:47.533747Z"
    },
    "papermill": {
     "duration": 0.413759,
     "end_time": "2023-04-27T14:25:47.537948",
     "exception": false,
     "start_time": "2023-04-27T14:25:47.124189",
     "status": "completed"
    },
    "tags": []
   },
   "outputs": [
    {
     "data": {
      "text/plain": [
       "<AxesSubplot:xlabel='State', ylabel='Orders'>"
      ]
     },
     "execution_count": 28,
     "metadata": {},
     "output_type": "execute_result"
    },
    {
     "data": {
      "image/png": "[encoded data removed]",
      "text/plain": [
       "<Figure size 1700x800 with 1 Axes>"
      ]
     },
     "metadata": {},
     "output_type": "display_data"
    }
   ],
   "source": [
    "# Total Amout Vs Age Group\n",
    "\n",
    "sales_state = df.groupby(['State'], as_index=False)['Orders'].sum().sort_values(by='Orders', ascending=False).head(10)\n",
    "\n",
    "sns.set(rc={'figure.figsize':(17,8)})\n",
    "sns.barplot(data = sales_state, x = 'State', y = 'Orders')"
   ]
  },
  {
   "cell_type": "code",
   "execution_count": 29,
   "id": "8a20c6c7",
   "metadata": {
    "execution": {
     "iopub.execute_input": "2023-04-27T14:25:47.575436Z",
     "iopub.status.busy": "2023-04-27T14:25:47.574344Z",
     "iopub.status.idle": "2023-04-27T14:25:47.965721Z",
     "shell.execute_reply": "2023-04-27T14:25:47.964218Z"
    },
    "papermill": {
     "duration": 0.413504,
     "end_time": "2023-04-27T14:25:47.968580",
     "exception": false,
     "start_time": "2023-04-27T14:25:47.555076",
     "status": "completed"
    },
    "tags": []
   },
   "outputs": [
    {
     "data": {
      "text/plain": [
       "<AxesSubplot:xlabel='State', ylabel='Amount'>"
      ]
     },
     "execution_count": 29,
     "metadata": {},
     "output_type": "execute_result"
    },
    {
     "data": {
      "image/png": "[encoded data removed]",
      "text/plain": [
       "<Figure size 1700x600 with 1 Axes>"
      ]
     },
     "metadata": {},
     "output_type": "display_data"
    }
   ],
   "source": [
    "# total amount/sales from top 10 states\n",
    "\n",
    "sales_state = df.groupby(['State'], as_index=False)['Amount'].sum().sort_values(by= 'Amount', ascending= False).head(10)\n",
    "\n",
    "sns.set(rc={'figure.figsize':(17,6)})\n",
    "sns.barplot(data = sales_state, x='State',y='Amount')"
   ]
  },
  {
   "cell_type": "markdown",
   "id": "7eadee79",
   "metadata": {
    "papermill": {
     "duration": 0.01668,
     "end_time": "2023-04-27T14:25:48.002640",
     "exception": false,
     "start_time": "2023-04-27T14:25:47.985960",
     "status": "completed"
    },
    "tags": []
   },
   "source": [
    "**From above graphs we can see that most of the orders & total sales/amount are from Uttar Pradesh, Maharashtra and Karnataka respectively**"
   ]
  },
  {
   "cell_type": "markdown",
   "id": "94196e25",
   "metadata": {
    "papermill": {
     "duration": 0.017236,
     "end_time": "2023-04-27T14:25:48.036902",
     "exception": false,
     "start_time": "2023-04-27T14:25:48.019666",
     "status": "completed"
    },
    "tags": []
   },
   "source": [
    "# **Marital Status**"
   ]
  },
  {
   "cell_type": "code",
   "execution_count": 30,
   "id": "6f230c8a",
   "metadata": {
    "execution": {
     "iopub.execute_input": "2023-04-27T14:25:48.073384Z",
     "iopub.status.busy": "2023-04-27T14:25:48.072711Z",
     "iopub.status.idle": "2023-04-27T14:25:48.349310Z",
     "shell.execute_reply": "2023-04-27T14:25:48.347960Z"
    },
    "papermill": {
     "duration": 0.298055,
     "end_time": "2023-04-27T14:25:48.352105",
     "exception": false,
     "start_time": "2023-04-27T14:25:48.054050",
     "status": "completed"
    },
    "tags": []
   },
   "outputs": [
    {
     "data": {
      "image/png": "[encoded data removed]",
      "text/plain": [
       "<Figure size 1700x600 with 1 Axes>"
      ]
     },
     "metadata": {},
     "output_type": "display_data"
    }
   ],
   "source": [
    "ax = sns.countplot(data = df, x = 'Marital_Status')\n",
    "\n",
    "sns.set(rc={'figure.figsize':(7,4)})\n",
    "for bars in ax.containers:\n",
    "    ax.bar_label(bars)"
   ]
  },
  {
   "cell_type": "code",
   "execution_count": 31,
   "id": "60f119a1",
   "metadata": {
    "execution": {
     "iopub.execute_input": "2023-04-27T14:25:48.390465Z",
     "iopub.status.busy": "2023-04-27T14:25:48.389794Z",
     "iopub.status.idle": "2023-04-27T14:25:48.657746Z",
     "shell.execute_reply": "2023-04-27T14:25:48.656459Z"
    },
    "papermill": {
     "duration": 0.290456,
     "end_time": "2023-04-27T14:25:48.660482",
     "exception": false,
     "start_time": "2023-04-27T14:25:48.370026",
     "status": "completed"
    },
    "tags": []
   },
   "outputs": [
    {
     "data": {
      "text/plain": [
       "<AxesSubplot:xlabel='Marital_Status', ylabel='Amount'>"
      ]
     },
     "execution_count": 31,
     "metadata": {},
     "output_type": "execute_result"
    },
    {
     "data": {
      "image/png": "[encoded data removed]",
      "text/plain": [
       "<Figure size 600x500 with 1 Axes>"
      ]
     },
     "metadata": {},
     "output_type": "display_data"
    }
   ],
   "source": [
    "sales_state = df.groupby(['Marital_Status','Gender'], as_index=False)['Amount'].sum().sort_values(by='Amount', ascending=False)\n",
    "\n",
    "sns.set(rc={'figure.figsize':(6,5)})\n",
    "sns.barplot(data = sales_state , x= 'Marital_Status', y = 'Amount', hue = 'Gender')"
   ]
  },
  {
   "cell_type": "markdown",
   "id": "c48e7110",
   "metadata": {
    "papermill": {
     "duration": 0.018274,
     "end_time": "2023-04-27T14:25:48.697177",
     "exception": false,
     "start_time": "2023-04-27T14:25:48.678903",
     "status": "completed"
    },
    "tags": []
   },
   "source": [
    "***From above graphs we can see that most of the buyers are married (women) and they have high purchasing power***"
   ]
  },
  {
   "cell_type": "markdown",
   "id": "6a51a538",
   "metadata": {
    "papermill": {
     "duration": 0.017955,
     "end_time": "2023-04-27T14:25:48.733800",
     "exception": false,
     "start_time": "2023-04-27T14:25:48.715845",
     "status": "completed"
    },
    "tags": []
   },
   "source": [
    "# **Occupation**"
   ]
  },
  {
   "cell_type": "code",
   "execution_count": 32,
   "id": "a8d01ba8",
   "metadata": {
    "execution": {
     "iopub.execute_input": "2023-04-27T14:25:48.773075Z",
     "iopub.status.busy": "2023-04-27T14:25:48.771959Z",
     "iopub.status.idle": "2023-04-27T14:25:49.288674Z",
     "shell.execute_reply": "2023-04-27T14:25:49.287240Z"
    },
    "papermill": {
     "duration": 0.53933,
     "end_time": "2023-04-27T14:25:49.291716",
     "exception": false,
     "start_time": "2023-04-27T14:25:48.752386",
     "status": "completed"
    },
    "tags": []
   },
   "outputs": [
    {
     "data": {
      "image/png": "[encoded data removed]",
      "text/plain": [
       "<Figure size 2200x500 with 1 Axes>"
      ]
     },
     "metadata": {},
     "output_type": "display_data"
    }
   ],
   "source": [
    "sns.set(rc={'figure.figsize':(22,5)})\n",
    "ax = sns.countplot(data = df, x = 'Occupation')\n",
    "\n",
    "for bars in ax.containers:\n",
    "    ax.bar_label(bars)"
   ]
  },
  {
   "cell_type": "code",
   "execution_count": 33,
   "id": "c5486d13",
   "metadata": {
    "execution": {
     "iopub.execute_input": "2023-04-27T14:25:49.334032Z",
     "iopub.status.busy": "2023-04-27T14:25:49.333592Z",
     "iopub.status.idle": "2023-04-27T14:25:49.786859Z",
     "shell.execute_reply": "2023-04-27T14:25:49.785418Z"
    },
    "papermill": {
     "duration": 0.478039,
     "end_time": "2023-04-27T14:25:49.789619",
     "exception": false,
     "start_time": "2023-04-27T14:25:49.311580",
     "status": "completed"
    },
    "tags": []
   },
   "outputs": [
    {
     "data": {
      "text/plain": [
       "<AxesSubplot:xlabel='Occupation', ylabel='Amount'>"
      ]
     },
     "execution_count": 33,
     "metadata": {},
     "output_type": "execute_result"
    },
    {
     "data": {
      "image/png": "[encoded data removed]",
      "text/plain": [
       "<Figure size 2000x500 with 1 Axes>"
      ]
     },
     "metadata": {},
     "output_type": "display_data"
    }
   ],
   "source": [
    "sales_state = df.groupby(['Occupation'], as_index=False)['Amount'].sum().sort_values(by='Amount', ascending= False)\n",
    "\n",
    "sns.set(rc={'figure.figsize': (20,5)})\n",
    "sns.barplot(data = sales_state, x = 'Occupation', y = 'Amount')"
   ]
  },
  {
   "cell_type": "markdown",
   "id": "3f38763a",
   "metadata": {
    "papermill": {
     "duration": 0.019601,
     "end_time": "2023-04-27T14:25:49.829756",
     "exception": false,
     "start_time": "2023-04-27T14:25:49.810155",
     "status": "completed"
    },
    "tags": []
   },
   "source": [
    "***From above graphs we can see that most of the buyers are working in IT, Healthcare and Aviation sector***"
   ]
  },
  {
   "cell_type": "markdown",
   "id": "7df92a05",
   "metadata": {
    "papermill": {
     "duration": 0.020006,
     "end_time": "2023-04-27T14:25:49.870156",
     "exception": false,
     "start_time": "2023-04-27T14:25:49.850150",
     "status": "completed"
    },
    "tags": []
   },
   "source": [
    "# **Product Category**"
   ]
  },
  {
   "cell_type": "code",
   "execution_count": 34,
   "id": "e04aaf15",
   "metadata": {
    "execution": {
     "iopub.execute_input": "2023-04-27T14:25:49.915136Z",
     "iopub.status.busy": "2023-04-27T14:25:49.914710Z",
     "iopub.status.idle": "2023-04-27T14:25:50.526259Z",
     "shell.execute_reply": "2023-04-27T14:25:50.524961Z"
    },
    "papermill": {
     "duration": 0.637666,
     "end_time": "2023-04-27T14:25:50.529353",
     "exception": false,
     "start_time": "2023-04-27T14:25:49.891687",
     "status": "completed"
    },
    "tags": []
   },
   "outputs": [
    {
     "data": {
      "image/png": "[encoded data removed]",
      "text/plain": [
       "<Figure size 2600x800 with 1 Axes>"
      ]
     },
     "metadata": {},
     "output_type": "display_data"
    }
   ],
   "source": [
    "sns.set(rc={'figure.figsize':(26,8)})\n",
    "ax = sns.countplot(data = df, x = 'Product_Category')\n",
    "\n",
    "for bars in ax.containers:\n",
    "    ax.bar_label(bars)"
   ]
  },
  {
   "cell_type": "code",
   "execution_count": 35,
   "id": "e6b3be6a",
   "metadata": {
    "execution": {
     "iopub.execute_input": "2023-04-27T14:25:50.573630Z",
     "iopub.status.busy": "2023-04-27T14:25:50.572819Z",
     "iopub.status.idle": "2023-04-27T14:25:51.029836Z",
     "shell.execute_reply": "2023-04-27T14:25:51.028552Z"
    },
    "papermill": {
     "duration": 0.48256,
     "end_time": "2023-04-27T14:25:51.032893",
     "exception": false,
     "start_time": "2023-04-27T14:25:50.550333",
     "status": "completed"
    },
    "tags": []
   },
   "outputs": [
    {
     "data": {
      "text/plain": [
       "<AxesSubplot:xlabel='Product_Category', ylabel='Amount'>"
      ]
     },
     "execution_count": 35,
     "metadata": {},
     "output_type": "execute_result"
    },
    {
     "data": {
      "image/png": "[encoded data removed]",
      "text/plain": [
       "<Figure size 2600x800 with 1 Axes>"
      ]
     },
     "metadata": {},
     "output_type": "display_data"
    }
   ],
   "source": [
    "sales_state = df.groupby(['Product_Category'], as_index=False)['Amount'].sum().sort_values(by='Amount', ascending= False).head(10)\n",
    "\n",
    "sns.set(rc={'figure.figsize': (26,8)})\n",
    "sns.barplot(data = sales_state, x = 'Product_Category', y = 'Amount')"
   ]
  },
  {
   "cell_type": "markdown",
   "id": "fd30ca7b",
   "metadata": {
    "papermill": {
     "duration": 0.021625,
     "end_time": "2023-04-27T14:25:51.076367",
     "exception": false,
     "start_time": "2023-04-27T14:25:51.054742",
     "status": "completed"
    },
    "tags": []
   },
   "source": [
    "***From above graphs we can see that most of the sold products are from Food, Clothing and Electronics category***"
   ]
  },
  {
   "cell_type": "code",
   "execution_count": 36,
   "id": "f21b4eaf",
   "metadata": {
    "execution": {
     "iopub.execute_input": "2023-04-27T14:25:51.124084Z",
     "iopub.status.busy": "2023-04-27T14:25:51.122784Z",
     "iopub.status.idle": "2023-04-27T14:25:51.513051Z",
     "shell.execute_reply": "2023-04-27T14:25:51.511649Z"
    },
    "papermill": {
     "duration": 0.416669,
     "end_time": "2023-04-27T14:25:51.516254",
     "exception": false,
     "start_time": "2023-04-27T14:25:51.099585",
     "status": "completed"
    },
    "tags": []
   },
   "outputs": [
    {
     "data": {
      "text/plain": [
       "<AxesSubplot:xlabel='Product_Category', ylabel='Orders'>"
      ]
     },
     "execution_count": 36,
     "metadata": {},
     "output_type": "execute_result"
    },
    {
     "data": {
      "image/png": "[encoded data removed]",
      "text/plain": [
       "<Figure size 2000x600 with 1 Axes>"
      ]
     },
     "metadata": {},
     "output_type": "display_data"
    }
   ],
   "source": [
    "sales_state = df.groupby(['Product_Category'], as_index=False)['Orders'].sum().sort_values(by='Orders', ascending= False).head(10)\n",
    "\n",
    "sns.set(rc={'figure.figsize': (20,6)})\n",
    "sns.barplot(data = sales_state, x = 'Product_Category', y = 'Orders')"
   ]
  },
  {
   "cell_type": "code",
   "execution_count": 37,
   "id": "d6e8d8a4",
   "metadata": {
    "execution": {
     "iopub.execute_input": "2023-04-27T14:25:51.565291Z",
     "iopub.status.busy": "2023-04-27T14:25:51.564818Z",
     "iopub.status.idle": "2023-04-27T14:25:51.570933Z",
     "shell.execute_reply": "2023-04-27T14:25:51.569415Z"
    },
    "papermill": {
     "duration": 0.034826,
     "end_time": "2023-04-27T14:25:51.573998",
     "exception": false,
     "start_time": "2023-04-27T14:25:51.539172",
     "status": "completed"
    },
    "tags": []
   },
   "outputs": [],
   "source": [
    "# top 10 most sold products (some things as above)"
   ]
  },
  {
   "cell_type": "code",
   "execution_count": 38,
   "id": "48add201",
   "metadata": {
    "execution": {
     "iopub.execute_input": "2023-04-27T14:25:51.622298Z",
     "iopub.status.busy": "2023-04-27T14:25:51.621813Z",
     "iopub.status.idle": "2023-04-27T14:25:52.172560Z",
     "shell.execute_reply": "2023-04-27T14:25:52.171163Z"
    },
    "papermill": {
     "duration": 0.57892,
     "end_time": "2023-04-27T14:25:52.175345",
     "exception": false,
     "start_time": "2023-04-27T14:25:51.596425",
     "status": "completed"
    },
    "tags": []
   },
   "outputs": [
    {
     "data": {
      "text/plain": [
       "<AxesSubplot:xlabel='Product_ID'>"
      ]
     },
     "execution_count": 38,
     "metadata": {},
     "output_type": "execute_result"
    },
    {
     "data": {
      "image/png": "[encoded data removed]",
      "text/plain": [
       "<Figure size 1200x700 with 1 Axes>"
      ]
     },
     "metadata": {},
     "output_type": "display_data"
    }
   ],
   "source": [
    "figl, axl = plt.subplots(figsize=(12,7))\n",
    "df.groupby('Product_ID')['Orders'].sum().nlargest(10).sort_values(ascending=False).plot(kind='bar')"
   ]
  },
  {
   "cell_type": "markdown",
   "id": "2a29703b",
   "metadata": {
    "papermill": {
     "duration": 0.022672,
     "end_time": "2023-04-27T14:25:52.221980",
     "exception": false,
     "start_time": "2023-04-27T14:25:52.199308",
     "status": "completed"
    },
    "tags": []
   },
   "source": [
    "# **Conclusion:**"
   ]
  },
  {
   "cell_type": "markdown",
   "id": "e89de1bf",
   "metadata": {
    "papermill": {
     "duration": 0.023405,
     "end_time": "2023-04-27T14:25:52.268697",
     "exception": false,
     "start_time": "2023-04-27T14:25:52.245292",
     "status": "completed"
    },
    "tags": []
   },
   "source": [
    "**Married women age group 26-35 yrs from UP, Maharastra and Karnataka working in IT, Healthcare and Aviation are more likely to buy products from Food Clothing and Electronics category**"
   ]
  },
  {
   "cell_type": "code",
   "execution_count": null,
   "id": "6c4a3be5",
   "metadata": {
    "jupyter": {
     "source_hidden": true
    },
    "papermill": {
     "duration": 0.02257,
     "end_time": "2023-04-27T14:25:52.314155",
     "exception": false,
     "start_time": "2023-04-27T14:25:52.291585",
     "status": "completed"
    },
    "tags": []
   },
   "outputs": [],
   "source": []
  }
 ],
 "metadata": {
  "kernelspec": {
   "display_name": "Python 3",
   "language": "python",
   "name": "python3"
  },
  "language_info": {
   "codemirror_mode": {
    "name": "ipython",
    "version": 3
   },
   "file_extension": ".py",
   "mimetype": "text/x-python",
   "name": "python",
   "nbconvert_exporter": "python",
   "pygments_lexer": "ipython3",
   "version": "3.7.12"
  },
  "papermill": {
   "default_parameters": {},
   "duration": 20.828818,
   "end_time": "2023-04-27T14:25:53.159015",
   "environment_variables": {},
   "exception": null,
   "input_path": "__notebook__.ipynb",
   "output_path": "__notebook__.ipynb",
   "parameters": {},
   "start_time": "2023-04-27T14:25:32.330197",
   "version": "2.4.0"
  }
 },
 "nbformat": 4,
 "nbformat_minor": 5
}
